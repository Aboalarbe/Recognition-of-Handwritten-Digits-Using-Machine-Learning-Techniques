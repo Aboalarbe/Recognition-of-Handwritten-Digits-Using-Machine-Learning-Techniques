{
 "cells": [
  {
   "cell_type": "markdown",
   "metadata": {},
   "source": [
    "## Import Libraries"
   ]
  },
  {
   "cell_type": "code",
   "execution_count": 40,
   "metadata": {
    "collapsed": true
   },
   "outputs": [],
   "source": [
    "from sklearn import datasets\n",
    "from sklearn.cross_validation import train_test_split\n",
    "from sklearn import tree\n",
    "from sklearn.metrics import accuracy_score\n",
    "from sklearn .externals.six import StringIO\n",
    "import pydotplus as pd"
   ]
  },
  {
   "cell_type": "markdown",
   "metadata": {},
   "source": [
    "## Load and Split Dataset"
   ]
  },
  {
   "cell_type": "code",
   "execution_count": 41,
   "metadata": {},
   "outputs": [
    {
     "name": "stdout",
     "output_type": "stream",
     "text": [
      "Training samples is :  1078\n",
      "Testing samples is :  719\n"
     ]
    }
   ],
   "source": [
    "# load digits dataset from sklearn \n",
    "digits =datasets.load_digits()\n",
    "features = digits.data\n",
    "# print (features)\n",
    "labels = digits.target\n",
    "# print(labels)\n",
    "\n",
    "# split the data to 60% training and 40% testing\n",
    "x_train,x_test,y_train,y_test=train_test_split(features,labels,test_size=.4)\n",
    "print('Training samples is : ',len(x_train))\n",
    "print('Testing samples is : ', len((x_test)))"
   ]
  },
  {
   "cell_type": "markdown",
   "metadata": {},
   "source": [
    "## Training and Testing"
   ]
  },
  {
   "cell_type": "code",
   "execution_count": 46,
   "metadata": {},
   "outputs": [
    {
     "name": "stdout",
     "output_type": "stream",
     "text": [
      "Training ......\n",
      "Accuracy is :  0.853963838665\n"
     ]
    }
   ],
   "source": [
    "DTx = tree.DecisionTreeClassifier()\n",
    "clf = DTx.fit(x_train,y_train)\n",
    "predictions = DTx.predict(x_test)\n",
    "print('Training ......')\n",
    "\n",
    "print ('Accuracy is : ',accuracy_score(y_test,predictions))"
   ]
  }
 ],
 "metadata": {
  "kernelspec": {
   "display_name": "Python 3",
   "language": "python",
   "name": "python3"
  },
  "language_info": {
   "codemirror_mode": {
    "name": "ipython",
    "version": 3
   },
   "file_extension": ".py",
   "mimetype": "text/x-python",
   "name": "python",
   "nbconvert_exporter": "python",
   "pygments_lexer": "ipython3",
   "version": "3.6.1"
  }
 },
 "nbformat": 4,
 "nbformat_minor": 2
}
